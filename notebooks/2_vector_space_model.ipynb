{
 "cells": [
  {
   "cell_type": "code",
   "execution_count": 21,
   "metadata": {
    "collapsed": false
   },
   "outputs": [],
   "source": [
    "import json\n",
    "import numpy as np\n",
    "import gensim\n",
    "import pandas as pd\n",
    "from scipy.spatial.distance import cosine"
   ]
  },
  {
   "cell_type": "code",
   "execution_count": 22,
   "metadata": {
    "collapsed": true
   },
   "outputs": [],
   "source": [
    "def cosine_sim(v,w):\n",
    "    return 1.0 - cosine(v,w)"
   ]
  },
  {
   "cell_type": "markdown",
   "metadata": {},
   "source": [
    "### 必須課題\n",
    "> コーパスを選択し、ベクトル空間モデルに基づいた検索を実現せよ.  \n",
    "> ３種類以上のクエリでの検索結果を示すこと.\n",
    "\n",
    "#### おさらい\n",
    "+ コーパスとは「文書集合」のこと\n",
    "+ 辞書とは「単語」と「単語のID」との対応付けのこと\n",
    "+ TF-IDFはコーパス内の各文書での単語の出現頻度に基づいた尺度の一つ\n",
    "\n",
    "#### 基本方針\n",
    "1. コーパスの読み込み\n",
    "2. 単語→単語IDの辞書を作成する\n",
    "  + 精度が芳しくなければ、日本語のストップワードリストを利用する\n",
    "3. 単語IDごとに出現回数をカウントする\n",
    "4. 出現頻度に応じてTF-IDFで重み付けされた特徴ベクトルを作成する\n",
    "5. 各文書のベクトル表現を作成する\n",
    "6. クエリをベクトル表現に変換し、類似度の高いものを取得する"
   ]
  },
  {
   "cell_type": "code",
   "execution_count": 5,
   "metadata": {
    "collapsed": false
   },
   "outputs": [
    {
     "name": "stdout",
     "output_type": "stream",
     "text": [
      "# of docs: 83\n"
     ]
    }
   ],
   "source": [
    "# [START コーパスの読み込み]\n",
    "with open(\"../data/kyoto_results_100.json\", \"r\") as f:\n",
    "    docs = json.load(f)\n",
    "print(\"# of docs: {}\".format(len(docs)))\n",
    "# [END コーパスの読み込み]"
   ]
  },
  {
   "cell_type": "code",
   "execution_count": 9,
   "metadata": {
    "collapsed": false
   },
   "outputs": [
    {
     "name": "stdout",
     "output_type": "stream",
     "text": [
      "定番 0\n",
      "穴場 1\n",
      "お 2\n"
     ]
    }
   ],
   "source": [
    "# [START 単語→単語IDの辞書を作成する]\n",
    "assert type(docs[-1][\"bow\"]) == str\n",
    "dictionary = gensim.corpora.Dictionary([doc[\"bow\"].split() for doc in docs])\n",
    "for idx, (key, val) in enumerate(dictionary.token2id.items()):\n",
    "    if idx < 3:\n",
    "        print(key, val)\n",
    "# [END 単語→単語IDの辞書を作成する]"
   ]
  },
  {
   "cell_type": "markdown",
   "metadata": {},
   "source": [
    "辞書には「お」というように、意味をなさないような単語も含まれている.  \n",
    "検索の精度を向上させるためには、このような無意味な単語を除去する必要がありそうだ."
   ]
  },
  {
   "cell_type": "code",
   "execution_count": 13,
   "metadata": {
    "collapsed": false
   },
   "outputs": [],
   "source": [
    "# [START 単語IDごとに出現回数をカウントする]\n",
    "id_corpus = [dictionary.doc2bow(doc[\"bow\"].split()) for doc in docs]\n",
    "# [END 単語IDごとに出現回数をカウントする]"
   ]
  },
  {
   "cell_type": "code",
   "execution_count": 14,
   "metadata": {
    "collapsed": true
   },
   "outputs": [],
   "source": [
    "# [START 出現頻度に応じてTF-IDFで重み付けされた特徴ベクトルを作成する]\n",
    "tfidf_model = gensim.models.TfidfModel(id_corpus, normalize=False)\n",
    "tfidf_corpus = tfidf_model[id_corpus]\n",
    "# [END 出現頻度に応じてTF-IDFで重み付けされた特徴ベクトルを作成する]"
   ]
  },
  {
   "cell_type": "code",
   "execution_count": 17,
   "metadata": {
    "collapsed": false
   },
   "outputs": [
    {
     "name": "stdout",
     "output_type": "stream",
     "text": [
      "[ 7.13536882  6.75007868  3.96544409 ...,  0.          0.          0.        ]\n",
      "(83, 1160)\n"
     ]
    }
   ],
   "source": [
    "# [START 各文書のベクトル表現を作成する]\n",
    "tfidf_vectors = gensim.matutils.corpus2dense(tfidf_corpus, len(dictionary)).T\n",
    "print(tfidf_vectors[0])\n",
    "print(np.asarray(tfidf_vectors).shape)\n",
    "# [END 各文書のベクトル表現を作成する]"
   ]
  },
  {
   "cell_type": "markdown",
   "metadata": {},
   "source": [
    "各文書について、1160次元のベクトルとして表現されていることが確認できる."
   ]
  },
  {
   "cell_type": "code",
   "execution_count": 46,
   "metadata": {
    "collapsed": false
   },
   "outputs": [],
   "source": [
    "class BasicEngine(object):\n",
    "    def __init__(self, docs):\n",
    "        \"\"\"辞書の作成\n",
    "        \"\"\"\n",
    "        self.dictionary = gensim.corpora.Dictionary([doc[\"bow\"].split() for doc in docs])\n",
    "        self.dict_size = len(dictionary)\n",
    "        \n",
    "    def _calc_cossim(self, v, w):\n",
    "        return 1.0 - cosine(v, w)\n",
    "        \n",
    "class TfidfEngine(BasicEngine):\n",
    "    \"\"\"TF-IDFでの文書検索の実装\n",
    "    \"\"\"\n",
    "    def __init__(self, docs):\n",
    "        super().__init__(docs)\n",
    "        id_corpus = [self.dictionary.doc2bow(doc[\"bow\"].split()) for doc in docs]\n",
    "        self.tfidf_model = gensim.models.TfidfModel(id_corpus, normalize=False)\n",
    "        self.tfidf_corpus = tfidf_model[id_corpus]\n",
    "        self.tfidf_vectors = gensim.matutils.corpus2dense(self.tfidf_corpus, len(self.dictionary)).T\n",
    "\n",
    "    def search(self, query, n_results = 5):\n",
    "        assert type(query) == set, \"クエリはdict型で渡す\"\n",
    "        scores = self._calc_scores(query)\n",
    "        s = pd.Series(scores)\n",
    "        return [(idx, score) for idx, score in s.sort_values(ascending=False)[:n_results].iteritems()]\n",
    "\n",
    "    def _calc_scores(self, query):\n",
    "        \"\"\"クエリと文書のスコア計算\n",
    "        \n",
    "        returns\n",
    "        ---------\n",
    "        scores : array, 各文書のスコア\n",
    "        \"\"\"\n",
    "        tfidf_q = tfidf_model[self.dictionary.doc2bow(query)]\n",
    "        query_vec = gensim.matutils.corpus2dense([tfidf_q], self.dict_size).T[0]\n",
    "        return [self._calc_cossim(query_vec, doc_vec) for doc_vec in self.tfidf_vectors]"
   ]
  },
  {
   "cell_type": "code",
   "execution_count": 50,
   "metadata": {
    "collapsed": false
   },
   "outputs": [
    {
     "name": "stdout",
     "output_type": "stream",
     "text": [
      "旬の京都観光情報と 京都のおすすめ観光スポット | 京都観光総 ...\n",
      "観光バスツアー・観光タクシー | 京都の観光&遊び・体験 ...\n",
      "「 京都観光タクシー 」 格安で有意義な京都観光をお約束！\n",
      "京都観光おすすめのグルメや人気の穴場\n",
      "京都観光/旅行・ぶらり伏見\n"
     ]
    }
   ],
   "source": [
    "# [START 3種類のクエリで検索結果を示す]\n",
    "tfidf_engine = TfidfEngine(docs)\n",
    "results = tfidf_engine.search({\"観光\"})\n",
    "for idx, score in results:\n",
    "    print(docs[idx][\"title\"])\n",
    "# [(dictionary[x[0]], x[1]) for x in tfidf_corpus[0]]\n",
    "# + コーパス中の文書についてクエリとの類似度を計算する\n",
    "# + 文書番号と類似度の対応表を作る\n",
    "# + 類似度の分布みる ひょっとしたらベクトルの作り方やクエリによって分布に偏りがあるかも\n",
    "# [END 3種類のクエリで検索結果を示す]"
   ]
  },
  {
   "cell_type": "code",
   "execution_count": null,
   "metadata": {
    "collapsed": true
   },
   "outputs": [],
   "source": []
  }
 ],
 "metadata": {
  "kernelspec": {
   "display_name": "Python [python360]",
   "language": "python",
   "name": "Python [python360]"
  },
  "language_info": {
   "codemirror_mode": {
    "name": "ipython",
    "version": 3
   },
   "file_extension": ".py",
   "mimetype": "text/x-python",
   "name": "python",
   "nbconvert_exporter": "python",
   "pygments_lexer": "ipython3",
   "version": "3.6.0"
  }
 },
 "nbformat": 4,
 "nbformat_minor": 0
}
