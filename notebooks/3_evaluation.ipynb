{
 "cells": [
  {
   "cell_type": "code",
   "execution_count": 1,
   "metadata": {
    "collapsed": false
   },
   "outputs": [
    {
     "name": "stdout",
     "output_type": "stream",
     "text": [
      "d1 L1\r\n",
      "d2 L0\r\n",
      "d3 L2\r\n",
      "d4 L1\r\n",
      "d5 L0\r\n",
      "d6 L0"
     ]
    }
   ],
   "source": [
    "# 1. 適合性評価ファイル(*.rel) ← クエリに対するコレクション中の適合性評価結果を表す\n",
    "# 2. 検索結果ファイル(*.res) ← ランク付けされた文書集合\n",
    "!cat ../data/eval/q1.rel"
   ]
  },
  {
   "cell_type": "code",
   "execution_count": 3,
   "metadata": {
    "collapsed": false
   },
   "outputs": [
    {
     "name": "stdout",
     "output_type": "stream",
     "text": [
      "d1\r\n",
      "d2\r\n",
      "d3"
     ]
    }
   ],
   "source": [
    "# 検索課題q1について, d1, d2, d3の順番で上位3件のランキングを作成したということ\n",
    "!cat ../data/eval/method1.q1.res"
   ]
  },
  {
   "cell_type": "code",
   "execution_count": 4,
   "metadata": {
    "collapsed": false
   },
   "outputs": [
    {
     "name": "stdout",
     "output_type": "stream",
     "text": [
      "d1 L1\r\n",
      "d2 L0\r\n",
      "d3 L2\r\n"
     ]
    }
   ],
   "source": [
    "# *.rel, *.resを準備したら, 適合性ラベル付き検索結果ファイルを作成する\n",
    "# pyNTCIREVALを利用する\n",
    "!pyNTCIREVAL label -r ../data/eval/q1.rel < ../data/eval/method1.q1.res"
   ]
  },
  {
   "cell_type": "code",
   "execution_count": 5,
   "metadata": {
    "collapsed": true
   },
   "outputs": [],
   "source": [
    "# 適合性ラベル付き検索結果ファイルを指定したファイルに書き込む\n",
    "!pyNTCIREVAL label -r ../data/eval/q1.rel < ../data/eval/method1.q1.res > ../data/eval/method1.q1.rel"
   ]
  },
  {
   "cell_type": "code",
   "execution_count": 6,
   "metadata": {
    "collapsed": false
   },
   "outputs": [
    {
     "name": "stdout",
     "output_type": "stream",
     "text": [
      "d1 L1\r\n",
      "d2 L0\r\n",
      "d3 L2\r\n"
     ]
    }
   ],
   "source": [
    "!cat ../data/eval/method1.q1.rel"
   ]
  },
  {
   "cell_type": "code",
   "execution_count": 7,
   "metadata": {
    "collapsed": false
   },
   "outputs": [
    {
     "name": "stdout",
     "output_type": "stream",
     "text": [
      " # syslen=3 jrel=3 jnonrel=3\r\n",
      " # r1=1 rp=3\r\n",
      " RR=                 1.0000\r\n",
      " OMeasure=           0.5000\r\n",
      " PMeasure=           0.7500\r\n",
      " PPlusMeasure=       0.6250\r\n",
      " AP=                 0.5556\r\n",
      " QMeasure=           0.4167\r\n",
      " NCUguP=             0.6000\r\n",
      " NCUguBR=            0.5500\r\n",
      " NCUrbP=             0.5726\r\n",
      " NCUrbBR=            0.4251\r\n",
      " RBP=                0.0618\r\n",
      " ERR=                0.4375\r\n",
      " AP@0001=            1.0000\r\n",
      " QMeasure@0001=      0.5000\r\n",
      " nDCG@0001=          0.3333\r\n",
      " MSnDCG@0001=        0.3333\r\n",
      " Precision@0001=     1.0000\r\n",
      " nERR@0001=          0.3333\r\n",
      " Hit@0001=           1.0000\r\n",
      " AP@0003=            0.5556\r\n",
      " QMeasure@0003=      0.4167\r\n",
      " nDCG@0003=          0.6247\r\n",
      " MSnDCG@0003=        0.6052\r\n",
      " Precision@0003=     0.6667\r\n",
      " nERR@0003=          0.5490\r\n",
      " Hit@0003=           1.0000\r\n"
     ]
    }
   ],
   "source": [
    "!pyNTCIREVAL compute -r ../data/eval/q1.rel -g 1:3 --cutoffs=1,3 < ../data/eval/method1.q1.rel"
   ]
  },
  {
   "cell_type": "code",
   "execution_count": 8,
   "metadata": {
    "collapsed": true
   },
   "outputs": [],
   "source": [
    "# -g はGainを表す\n",
    "# --cutoffsは上位何件までを考慮するかを表現する\n",
    "# e.g. --cutoffs=1:3 はtop-1,　top-3の2種類を考慮するということ"
   ]
  }
 ],
 "metadata": {
  "kernelspec": {
   "display_name": "Python [python360]",
   "language": "python",
   "name": "Python [python360]"
  },
  "language_info": {
   "codemirror_mode": {
    "name": "ipython",
    "version": 3
   },
   "file_extension": ".py",
   "mimetype": "text/x-python",
   "name": "python",
   "nbconvert_exporter": "python",
   "pygments_lexer": "ipython3",
   "version": "3.6.0"
  }
 },
 "nbformat": 4,
 "nbformat_minor": 0
}
