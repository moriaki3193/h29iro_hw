{
 "cells": [
  {
   "cell_type": "markdown",
   "metadata": {},
   "source": [
    "# README\n",
    "## 11月30日 締切課題\n",
    "11月30日までの課題についての説明を以下のテーブルに示します.\n",
    "\n",
    "| notebook | desc |\n",
    "|:------------|:-------|\n",
    "| tutorial | NumPyやMatplotlibの挙動を確かめたノート 課題とは関係ありません |\n",
    "| hw_2_vector_space_model | ベクトル空間モデルの演習課題 |\n",
    "| hw_3_evaluation | 評価指標の演習課題 |\n",
    "\n",
    "## 山本先生へ\n",
    "`3_Evaluation`に関連して, 情報検索の分野の評価指標を計算するPythonのパッケージとして`irmet`というものを作成し, 公開しています. もしよければ[このレポジトリ](https://github.com/moriaki3193/irmet)にStarをいただけると嬉しいです."
   ]
  }
 ],
 "metadata": {
  "kernelspec": {
   "display_name": "Python [python360]",
   "language": "python",
   "name": "Python [python360]"
  },
  "language_info": {
   "codemirror_mode": {
    "name": "ipython",
    "version": 3
   },
   "file_extension": ".py",
   "mimetype": "text/x-python",
   "name": "python",
   "nbconvert_exporter": "python",
   "pygments_lexer": "ipython3",
   "version": "3.6.0"
  }
 },
 "nbformat": 4,
 "nbformat_minor": 0
}
