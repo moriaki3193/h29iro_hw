{
 "cells": [
  {
   "cell_type": "markdown",
   "metadata": {},
   "source": [
    "# 必須課題\n",
    "> コーパスを選択し、ベクトル空間モデルに基づいた検索を実現せよ.\n",
    "> 3種類以上のクエリでの検索結果を示すこと."
   ]
  },
  {
   "cell_type": "code",
   "execution_count": 1,
   "metadata": {
    "collapsed": true
   },
   "outputs": [],
   "source": [
    "import json\n",
    "import numpy as np\n",
    "import gensim\n",
    "import pandas as pd\n",
    "from scipy.spatial.distance import cosine"
   ]
  },
  {
   "cell_type": "code",
   "execution_count": 2,
   "metadata": {
    "collapsed": true
   },
   "outputs": [],
   "source": [
    "with open(\"../data/kyoto_results_100.json\", \"r\") as f:\n",
    "    docs = json.load(f)"
   ]
  },
  {
   "cell_type": "code",
   "execution_count": 3,
   "metadata": {
    "collapsed": true
   },
   "outputs": [],
   "source": [
    "# [START 検索ロジックの基本クラス]\n",
    "class BasicEngine(object):\n",
    "    def __init__(self, docs):\n",
    "        self.docs = docs\n",
    "        self.dictionary = gensim.corpora.Dictionary([doc[\"bow\"].split() for doc in docs])\n",
    "        self.DICT_SIZE = len(self.dictionary)\n",
    "        \n",
    "    def _calc_cossim(self, v, w):\n",
    "        return 1.0 - cosine(v, w)"
   ]
  },
  {
   "cell_type": "code",
   "execution_count": 6,
   "metadata": {
    "collapsed": true
   },
   "outputs": [],
   "source": [
    "# [START TF-IDFによる検索ロジックのクラス実装]\n",
    "class TfidfEngine(BasicEngine):\n",
    "    def __init__(self, docs):\n",
    "        super().__init__(docs)\n",
    "        id_corpus = [self.dictionary.doc2bow(doc[\"bow\"].split()) for doc in docs]\n",
    "        self.tfidf_model = gensim.models.TfidfModel(id_corpus, normalize=False)\n",
    "        tfidf_corpus = self.tfidf_model[id_corpus]\n",
    "        self.tfidf_vectors = gensim.matutils.corpus2dense(tfidf_corpus, self.DICT_SIZE).T\n",
    "\n",
    "    def _calc_scores(self, query):\n",
    "        tfidf_q = self.tfidf_model[self.dictionary.doc2bow(query)]\n",
    "        query_vec = gensim.matutils.corpus2dense([tfidf_q], self.DICT_SIZE).T[0]\n",
    "        return [self._calc_cossim(query_vec, doc_vec) for doc_vec in self.tfidf_vectors]\n",
    "    \n",
    "    def search(self, query, n_results=5):\n",
    "        assert type(query) == set, \"クエリはset型で返す\"\n",
    "        scores = self._calc_scores(query)\n",
    "        s = pd.Series(scores)\n",
    "        return [\n",
    "                (idx, score, self.docs[idx][\"title\"]) for idx, score in s.sort_values(ascending=False)[:n_results].iteritems()\n",
    "                ]"
   ]
  },
  {
   "cell_type": "code",
   "execution_count": 7,
   "metadata": {
    "collapsed": false
   },
   "outputs": [],
   "source": [
    "# [START 3種類のクエリで検索結果を示す]\n",
    "q1 = {\"観光\", \"おすすめ\"}\n",
    "q2 = {\"紅葉\", \"穴場\"}\n",
    "q3 = {\"鴨川\", \"料理\"}\n",
    "\n",
    "tfidf_engine = TfidfEngine(docs)\n",
    "res1 = tfidf_engine.search(q1)\n",
    "res2 = tfidf_engine.search(q2)\n",
    "res3 = tfidf_engine.search(q3)"
   ]
  },
  {
   "cell_type": "code",
   "execution_count": 8,
   "metadata": {
    "collapsed": false
   },
   "outputs": [
    {
     "data": {
      "text/plain": [
       "[(60, 0.20026417328123602, '京都観光おすすめのグルメや人気の穴場'),\n",
       " (30, 0.13748758827691754, '京都観光 | 京都の観光を楽しむならきょうと情報版'),\n",
       " (35, 0.13569327203818871, '京都観光地おすすめランキング - コトログ京都'),\n",
       " (10, 0.13220926013527468, '旬の京都観光情報と 京都のおすすめ観光スポット | 京都観光総 ...'),\n",
       " (3, 0.13062828660736625, '京都観光のおすすめコースをガイド | 京都じっくり観光')]"
      ]
     },
     "execution_count": 8,
     "metadata": {},
     "output_type": "execute_result"
    }
   ],
   "source": []
  },
  {
   "cell_type": "markdown",
   "metadata": {},
   "source": [
    "## 行ったこと\n",
    "1. "
   ]
  }
 ],
 "metadata": {
  "kernelspec": {
   "display_name": "Python [python360]",
   "language": "python",
   "name": "Python [python360]"
  },
  "language_info": {
   "codemirror_mode": {
    "name": "ipython",
    "version": 3
   },
   "file_extension": ".py",
   "mimetype": "text/x-python",
   "name": "python",
   "nbconvert_exporter": "python",
   "pygments_lexer": "ipython3",
   "version": "3.6.0"
  }
 },
 "nbformat": 4,
 "nbformat_minor": 0
}
