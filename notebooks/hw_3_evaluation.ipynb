{
 "cells": [
  {
   "cell_type": "markdown",
   "metadata": {},
   "source": [
    "# 必須課題(1) 動作の確認\n",
    "> このページで用いた検索結果に対するpyNTCIREVALの出力のうち, MSnDCG@0003とnERR@0003が\n",
    "> 講義資料の定義に従った計算と一致していることを確かめよ.\n",
    "> つまり, nDCG@3とnERR@3を計算するプログラムを書き,\n",
    "> その結果がpyNTCIREVALの結果と一致していることを確認せよ."
   ]
  },
  {
   "cell_type": "code",
   "execution_count": 1,
   "metadata": {
    "collapsed": false
   },
   "outputs": [
    {
     "name": "stdout",
     "output_type": "stream",
     "text": [
      "Usage: pyNTCIREVAL [OPTIONS] COMMAND [ARGS]...\r\n",
      "\r\n",
      "Options:\r\n",
      "  -h, --help  Show this message and exit.\r\n",
      "\r\n",
      "Commands:\r\n",
      "  compute\r\n",
      "  label\r\n"
     ]
    }
   ],
   "source": [
    "!pyNTCIREVAL"
   ]
  },
  {
   "cell_type": "code",
   "execution_count": null,
   "metadata": {
    "collapsed": true
   },
   "outputs": [],
   "source": []
  },
  {
   "cell_type": "markdown",
   "metadata": {},
   "source": [
    "# 必須課題(2) 独自データに対する評価指標の計算\n",
    "> 演習課題1で扱った検索課題集合と検索結果に対して各自で評価用データを作成し\n",
    "> pyNTCIREVALを用いて評価指標を計算せよ.\n",
    "> そして, MRR, nDCG@3及びnERR@3の平均を報告し,\n",
    "> それらの値の違いが各指標のどういった要因によるものかを考察せよ.\n",
    "> なお, 演習課題1で扱ったコーパス以外で評価データを作成しても良い.\n",
    "> ただし, 評価データはダミーデータではなく, 実際の何らかのランキングを評価したものとし,\n",
    "> 検索課題(クエリ)は3つ以上とする."
   ]
  },
  {
   "cell_type": "code",
   "execution_count": null,
   "metadata": {
    "collapsed": true
   },
   "outputs": [],
   "source": []
  }
 ],
 "metadata": {
  "kernelspec": {
   "display_name": "Python [python360]",
   "language": "python",
   "name": "Python [python360]"
  },
  "language_info": {
   "codemirror_mode": {
    "name": "ipython",
    "version": 3
   },
   "file_extension": ".py",
   "mimetype": "text/x-python",
   "name": "python",
   "nbconvert_exporter": "python",
   "pygments_lexer": "ipython3",
   "version": "3.6.0"
  }
 },
 "nbformat": 4,
 "nbformat_minor": 0
}
