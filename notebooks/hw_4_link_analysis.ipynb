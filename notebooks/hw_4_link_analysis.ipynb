{
 "cells": [
  {
   "cell_type": "markdown",
   "metadata": {},
   "source": [
    "# 演習課題その3 リンク解析"
   ]
  },
  {
   "cell_type": "markdown",
   "metadata": {},
   "source": [
    "## 必須課題(1) PageRankアルゴリズムの確認\n",
    "講義資料「リンク解析（１）」p12のグラフに対して，遷移確率行列が確率行列の性質を満たすよう修正し， べき乗法に基づくPageRankの計算を適用し，結果を報告せよ．ただし，$d = 0.85$とする．また，さまざまな初期状態分布に対してPageRank値を求めることで，異なる初期状態分布に対して同じPageRank値が得られることを確認せよ．"
   ]
  },
  {
   "cell_type": "code",
   "execution_count": 2,
   "metadata": {
    "collapsed": true
   },
   "outputs": [],
   "source": [
    "import numpy as np\n",
    "import networkx as nx\n",
    "from matplotlib import pyplot as plt\n",
    "import warnings"
   ]
  },
  {
   "cell_type": "code",
   "execution_count": 3,
   "metadata": {
    "collapsed": true
   },
   "outputs": [],
   "source": [
    "# [START PageRankアルゴリズムの実装]\n",
    "def pagerank(A, p, d = 0.85, eps = 1e-6):\n",
    "    \"\"\"PageRank値を返す関数\n",
    "    \n",
    "    params\n",
    "    ---------\n",
    "    A : 遷移確率行列\n",
    "    p : 初期状態分布\n",
    "    d : dumping factor\n",
    "    eps : 許容する誤差\n",
    "    \"\"\"\n",
    "    n = A.shape[0]\n",
    "    e = np.ones(n)\n",
    "    while True:\n",
    "        # numpy はベクトルが標準で行ベクトルなので\n",
    "        # 内積の計算順序を入れ替えている\n",
    "        p_next = d * np.dot(p, A) + (1.0 - d) * e / n\n",
    "        # L1ノルムがeps以内に収まれば終了\n",
    "        if np.linalg.norm(p_next - p, ord=1) <= eps:\n",
    "            p = p_next\n",
    "            break\n",
    "        p = p_next\n",
    "    return p"
   ]
  },
  {
   "cell_type": "code",
   "execution_count": 4,
   "metadata": {
    "collapsed": true
   },
   "outputs": [],
   "source": [
    "# [START warningsを非表示に]\n",
    "warnings.simplefilter('ignore')"
   ]
  },
  {
   "cell_type": "code",
   "execution_count": 30,
   "metadata": {
    "collapsed": false
   },
   "outputs": [
    {
     "data": {
      "image/png": "[encoded data removed]",
      "text/plain": [
       "<matplotlib.figure.Figure at 0x103fa1908>"
      ]
     },
     "metadata": {},
     "output_type": "display_data"
    }
   ],
   "source": [
    "# [START 有向グラフの描画]\n",
    "%matplotlib inline\n",
    "%precision 2\n",
    "G = nx.DiGraph()\n",
    "G.add_nodes_from([1, 2, 3, 4, 5, 6])\n",
    "G.add_edges_from([\n",
    "        (1,2), (1,3), (2,1), (2,3), (3,2),\n",
    "        (4,3), (4,5), (6,4), (6,5),\n",
    "    ])\n",
    "position = nx.spring_layout(G)\n",
    "nx.draw(G, position, with_labels=True, node_size=500, node_color='w')\n",
    "plt.show()"
   ]
  },
  {
   "cell_type": "code",
   "execution_count": 32,
   "metadata": {
    "collapsed": true
   },
   "outputs": [],
   "source": [
    "# 5番目のノードが出リンクを持たないことから，全てのノードにエッジを張る場合は以下\n",
    "# G.add_edges_from([(5,1), (5,2), (5,3), (5,4), (5,5), (5,6)])\n",
    "# 今回はグラフが見やすいように，表示するグラフそのものは5番目のノードからの\n",
    "# 出リンクを省略したものを利用した．"
   ]
  },
  {
   "cell_type": "code",
   "execution_count": 33,
   "metadata": {
    "collapsed": false
   },
   "outputs": [
    {
     "name": "stdout",
     "output_type": "stream",
     "text": [
      "[[ 0.    0.5   0.5   0.    0.    0.  ]\n",
      " [ 0.5   0.    0.5   0.    0.    0.  ]\n",
      " [ 0.    1.    0.    0.    0.    0.  ]\n",
      " [ 0.    0.    0.5   0.    0.5   0.  ]\n",
      " [ 0.17  0.17  0.17  0.17  0.17  0.17]\n",
      " [ 0.    0.    0.    0.5   0.5   0.  ]]\n"
     ]
    }
   ],
   "source": [
    "# 行方向から列方向へのノードに有効エッジが存在するかを表現する行列を返す関数\n",
    "edge_matrix = nx.to_numpy_matrix(G)\n",
    "A = edge_matrix / edge_matrix.sum(axis=1)\n",
    "# 今回はnan となるのは0による除算のみなので、\n",
    "# nan を次元数^(-1)に置き換える\n",
    "A[np.isnan(A)] = 1.0 / A.shape[0]\n",
    "print(A)"
   ]
  },
  {
   "cell_type": "code",
   "execution_count": 34,
   "metadata": {
    "collapsed": false
   },
   "outputs": [
    {
     "name": "stdout",
     "output_type": "stream",
     "text": [
      "収束した\n",
      "初期状態分布: [ 0.17  0.17  0.17  0.17  0.17  0.17]\n",
      "PageRank値: [[ 0.19  0.36  0.29  0.05  0.07  0.04]]\n",
      "収束した\n",
      "初期状態分布: [ 0.05  0.1   0.14  0.19  0.24  0.29]\n",
      "PageRank値: [[ 0.19  0.36  0.29  0.05  0.07  0.04]]\n",
      "収束した\n",
      "初期状態分布: [ 0.18  0.21  0.26  0.3   0.03  0.02]\n",
      "PageRank値: [[ 0.19  0.36  0.29  0.05  0.07  0.04]]\n"
     ]
    }
   ],
   "source": [
    "# [START 初期状態分布の指定とPageRank値を求める]\n",
    "# 3つの初期状態分布を設定する\n",
    "seed = np.abs(np.random.randn(6))\n",
    "p1 = np.ones(6) / 6  # 全部の要素が1/6\n",
    "p2 = np.asarray([1, 2, 3, 4, 5, 6]) / 21\n",
    "p3 = seed / seed.sum()\n",
    "plist = [p1, p2, p3]\n",
    "for idx, p in enumerate(plist):\n",
    "    score = pagerank(A, p)\n",
    "    print(\"初期状態分布: {}\".format(p))\n",
    "    print(\"PageRank値: {}\".format(score))"
   ]
  },
  {
   "cell_type": "markdown",
   "metadata": {},
   "source": [
    "### 結果\n",
    "以上の出力から，今回のグラフに対しては異なる初期状態分布に対して同様のPageRank値が求められることが確かめられた．"
   ]
  },
  {
   "cell_type": "markdown",
   "metadata": {},
   "source": [
    "## 必須課題(2) 定常分布\n",
    "講義で述べたように，マルコフ連鎖が一意の定常分布 ${\\mathbf \\pi}$ を持つためには，そのマルコフ連鎖は既約かつ非周期的である必要がある．そこで，「既約ではあるが非周期的でないマルコフ連鎖」であるようなウェブグラフ$G$を用意し，$G$に対してテレポーテーションを用いない単純なPageRankアルゴリズム（すなわち，${\\mathbf p} = A^{T}{\\mathbf p}$）に基づくべき乗法を適用することで，初期状態分布によってはPageRankベクトルが収束しない場合があることを確認せよ．\n",
    "\n",
    "- 用意したウェブグラフ$G$をNetworkXで可視化すること\n",
    "- 用意したウェブグラフ$G$は，講義で使用した例とは異なる例を用いること"
   ]
  },
  {
   "cell_type": "markdown",
   "metadata": {},
   "source": [
    "### 0. 有向グラフの描画\n",
    "> 既約ではあるが，非周期的ではないマルコフ連鎖」\n",
    "\n",
    "であるグラフ$G$を作成する．\n",
    "\n",
    "既約であるとは，グラフ上の任意の頂点について，任意の2点の間に有向のパスが存在することであるので，\n",
    "例えば6つの頂点からなるグラフを考えて， 1→2, 2→3, 3→4, 4→5, 5→6， 6→1, 5→2といった有向のエッジを持つようにすれば，\n",
    "条件を満たすと言える．"
   ]
  },
  {
   "cell_type": "code",
   "execution_count": 37,
   "metadata": {
    "collapsed": false
   },
   "outputs": [
    {
     "data": {
      "image/png": "[encoded data removed]",
      "text/plain": [
       "<matplotlib.figure.Figure at 0x10fcc20f0>"
      ]
     },
     "metadata": {},
     "output_type": "display_data"
    }
   ],
   "source": [
    "# [START 有向グラフの描画]\n",
    "G = nx.DiGraph()\n",
    "G.add_nodes_from([1,2,3,4,5,6])\n",
    "G.add_edges_from([(1,2),(2,3),(3,4),(4,5),(5,6), (5,2),(6,1)])\n",
    "pos = nx.spring_layout(G)\n",
    "nx.draw(G, pos, with_labels=True, node_size=500, node_color=\"w\")\n",
    "plt.show()"
   ]
  },
  {
   "cell_type": "code",
   "execution_count": 38,
   "metadata": {
    "collapsed": false
   },
   "outputs": [
    {
     "name": "stdout",
     "output_type": "stream",
     "text": [
      "[[ 0.   1.   0.   0.   0.   0. ]\n",
      " [ 0.   0.   1.   0.   0.   0. ]\n",
      " [ 0.   0.   0.   1.   0.   0. ]\n",
      " [ 0.   0.   0.   0.   1.   0. ]\n",
      " [ 0.   0.5  0.   0.   0.   0.5]\n",
      " [ 1.   0.   0.   0.   0.   0. ]]\n"
     ]
    }
   ],
   "source": [
    "# 行方向から列方向へのノードに有効エッジが存在するかを表現する行列を返す関数\n",
    "# 必修課題(1) のコードをそのまま利用する\n",
    "edge_matrix = nx.to_numpy_matrix(G)\n",
    "A = edge_matrix / edge_matrix.sum(axis=1)\n",
    "# 今回はnan となるのは0による除算のみなので、\n",
    "# nan を次元数^(-1)に置き換える\n",
    "A[np.isnan(A)] = 1.0 / A.shape[0]\n",
    "print(A)"
   ]
  },
  {
   "cell_type": "markdown",
   "metadata": {},
   "source": [
    "### 1. PageRank関数の実装\n",
    "必修課題(1)で実装したPageRank関数では，PageRank値が収束しない場合について\n",
    "の処理が定義されていないため，pagerank関数の内容を変更する．"
   ]
  },
  {
   "cell_type": "code",
   "execution_count": 43,
   "metadata": {
    "collapsed": true
   },
   "outputs": [],
   "source": [
    "# [START PageRankアルゴリズムの実装]\n",
    "import logging\n",
    "\n",
    "MAX_ITER = 1000\n",
    "\n",
    "def pagerank(A, p, d = 0.85, eps = 1e-6):\n",
    "    \"\"\"PageRank値を返す関数\n",
    "    \n",
    "    params\n",
    "    ---------\n",
    "    A : 遷移確率行列\n",
    "    p : 初期状態分布\n",
    "    d : dumping factor\n",
    "    eps : 許容する誤差\n",
    "    \"\"\"\n",
    "    n = A.shape[0]\n",
    "    e = np.ones(n)\n",
    "    num_iter = 0  # 追加 繰り返しの回数を表現する\n",
    "    while True:\n",
    "        # numpy はベクトルが標準で行ベクトルなので\n",
    "        # 内積の計算順序を入れ替えている\n",
    "        p_next = d * np.dot(p, A) + (1.0 - d) * e / n\n",
    "        # L1ノルムがeps以内に収まれば終了\n",
    "        if np.linalg.norm(p_next - p, ord=1) <= eps:\n",
    "            print(\"収束した\")\n",
    "            p = p_next\n",
    "            break\n",
    "        if num_iter == MAX_ITER:\n",
    "            print(\"収束しない\")\n",
    "            break;\n",
    "        num_iter += 1\n",
    "        p = p_next\n",
    "    return p"
   ]
  },
  {
   "cell_type": "markdown",
   "metadata": {},
   "source": [
    "### 2. 異なる初期状態分布でのPageRankを求める\n",
    "次の`p1`, `p2`, `p3`といった，3つの異なる初期状態分布において，PageRank値が求められるかどうかを確認する．"
   ]
  },
  {
   "cell_type": "code",
   "execution_count": 44,
   "metadata": {
    "collapsed": false
   },
   "outputs": [
    {
     "name": "stdout",
     "output_type": "stream",
     "text": [
      "収束した\n",
      "初期状態分布: [ 0.17  0.17  0.17  0.17  0.17  0.17]\n",
      "PageRank値: [[ 0.1  0.2  0.2  0.2  0.2  0.1]]\n",
      "--------------------------------------------------------------------------------\n",
      "収束した\n",
      "初期状態分布: [ 0.   0.   0.   0.   0.5  0.5]\n",
      "PageRank値: [[ 0.1  0.2  0.2  0.2  0.2  0.1]]\n",
      "--------------------------------------------------------------------------------\n",
      "収束しない\n",
      "初期状態分布: [1 0 0 0 0 0]\n",
      "PageRank値: [[ 0.2  0.   0.4  0.   0.4  0. ]]\n",
      "--------------------------------------------------------------------------------\n"
     ]
    }
   ],
   "source": [
    "p1 = p1  # 必修課題(1)と同じ\n",
    "p2 = np.asarray([0, 0, 0, 0, 0.5, 0.5])\n",
    "p3 = np.asarray([1, 0, 0, 0, 0, 0])\n",
    "\n",
    "plist = [p1, p2, p3]\n",
    "for idx, p in enumerate(plist):\n",
    "    score = pagerank(A, p, d=1.0, eps=1e-6)\n",
    "    print(\"初期状態分布: {}\".format(p))\n",
    "    print(\"PageRank値: {}\".format(score))\n",
    "    print(\"----\" * 20)"
   ]
  },
  {
   "cell_type": "markdown",
   "metadata": {},
   "source": [
    "### 3. 結果\n",
    "繰り返しの回数を1000回に設定したが， `p3`の初期状態分布においては，PageRankベクトルが収束しないことが確認された． "
   ]
  },
  {
   "cell_type": "code",
   "execution_count": null,
   "metadata": {
    "collapsed": true
   },
   "outputs": [],
   "source": []
  }
 ],
 "metadata": {
  "anaconda-cloud": {},
  "kernelspec": {
   "display_name": "Python [python360]",
   "language": "python",
   "name": "Python [python360]"
  },
  "language_info": {
   "codemirror_mode": {
    "name": "ipython",
    "version": 3
   },
   "file_extension": ".py",
   "mimetype": "text/x-python",
   "name": "python",
   "nbconvert_exporter": "python",
   "pygments_lexer": "ipython3",
   "version": "3.6.0"
  }
 },
 "nbformat": 4,
 "nbformat_minor": 0
}
