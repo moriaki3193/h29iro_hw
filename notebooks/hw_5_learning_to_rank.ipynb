{
 "cells": [
  {
   "cell_type": "markdown",
   "metadata": {},
   "source": [
    "# 演習課題その4 L2R・検索結果多様化"
   ]
  },
  {
   "cell_type": "markdown",
   "metadata": {},
   "source": [
    "## 必須課題(1) Ranking SVM\n",
    "サンプルファイルとは別のテストデータを用意し，サンプルファイルの訓練データで学習したモデルをそのテストデータに適用してみよ． また，訓練データを観察し，どのような特徴量をもった文書が上位にランク付けされそうか自分で推測し，テストデータに対するランキング結果がその自分の推測と近いかどうか考察せよ．"
   ]
  },
  {
   "cell_type": "code",
   "execution_count": 5,
   "metadata": {
    "collapsed": true
   },
   "outputs": [],
   "source": [
    "import numpy as np\n",
    "import pandas as pd"
   ]
  },
  {
   "cell_type": "markdown",
   "metadata": {},
   "source": [
    "### 0. SVMRankモデルの学習\n",
    "山本先生のNotebookの内容にしたがって，訓練データを利用したモデルの学習を行う．"
   ]
  },
  {
   "cell_type": "code",
   "execution_count": 1,
   "metadata": {
    "collapsed": false
   },
   "outputs": [
    {
     "name": "stdout",
     "output_type": "stream",
     "text": [
      "Reading training examples...done\r\n",
      "Training set properties: 5 features, 3 rankings, 12 examples\r\n",
      "NOTE: Adjusted stopping criterion relative to maximum loss: eps=0.004667\r\n",
      "Iter 1: ...*(NumConst=1, SV=1, CEps=4.6667, QPEps=0.0000)\r\n",
      "Iter 2: ...*(NumConst=2, SV=1, CEps=4.2166, QPEps=0.0000)\r\n",
      "Iter 3: ...(NumConst=2, SV=1, CEps=0.0000, QPEps=0.0000)\r\n",
      "Final epsilon on KKT-Conditions: 0.00000\r\n",
      "Upper bound on duality gap: -0.00000\r\n",
      "Dual objective value: dval=0.13325\r\n",
      "Primal objective value: pval=0.13325\r\n",
      "Total number of constraints in final working set: 2 (of 2)\r\n",
      "Number of iterations: 3\r\n",
      "Number of calls to 'find_most_violated_constraint': 9\r\n",
      "Number of SV: 1 \r\n",
      "Norm of weight vector: |w|=0.11619\r\n",
      "Value of slack variable (on working set): xi=4.21663\r\n",
      "Value of slack variable (global): xi=4.21663\r\n",
      "Norm of longest difference vector: ||Psi(x,y)-Psi(x,ybar)||=3.87313\r\n",
      "Runtime in cpu-seconds: 0.00\r\n",
      "Compacting linear model...done\r\n",
      "Writing learned model...done\r\n"
     ]
    }
   ],
   "source": [
    "# [START 訓練データの学習]\n",
    "! ../bin/svm_rank/svm_rank_learn -c 0.03 ../data/svmrank_sample/train.dat ../data/svmrank_sample/model"
   ]
  },
  {
   "cell_type": "code",
   "execution_count": 2,
   "metadata": {
    "collapsed": false
   },
   "outputs": [
    {
     "name": "stdout",
     "output_type": "stream",
     "text": [
      "SVM-light Version V6.20\r\n",
      "0 # kernel type\r\n",
      "3 # kernel parameter -d \r\n",
      "1 # kernel parameter -g \r\n",
      "1 # kernel parameter -s \r\n",
      "1 # kernel parameter -r \r\n",
      "empty# kernel parameter -u \r\n",
      "6 # highest feature index \r\n",
      "2 # number of training documents \r\n",
      "2 # number of support vectors plus 1 \r\n",
      "0 # threshold b, each following line is a SV (starting with alpha*y)\r\n",
      "1 1:0.099999994 2:-0.010000001 3:-0.049999997 4:-0.0010000003 5:0.029999999 #\r\n"
     ]
    }
   ],
   "source": [
    "!cat ../data/svmrank_sample/model"
   ]
  },
  {
   "cell_type": "code",
   "execution_count": 3,
   "metadata": {
    "collapsed": false
   },
   "outputs": [
    {
     "name": "stdout",
     "output_type": "stream",
     "text": [
      "Reading model...done.\r\n",
      "Reading test examples...done.\r\n",
      "Classifying test examples...done\r\n",
      "Runtime (without IO) in cpu-seconds: 0.00\r\n",
      "Average loss on test set: 0.0000\r\n",
      "Zero/one-error on test set: 0.00% (1 correct, 0 incorrect, 1 total)\r\n",
      "NOTE: The loss reported above is the fraction of swapped pairs averaged over\r\n",
      "      all rankings. The zero/one-error is fraction of perfectly correct\r\n",
      "      rankings!\r\n",
      "Total Num Swappedpairs  :      0\r\n",
      "Avg Swappedpairs Percent:   0.00\r\n"
     ]
    }
   ],
   "source": [
    "! ../bin/svm_rank/svm_rank_classify ../data/svmrank_sample/test.dat ../data/svmrank_sample/model ../data/svmrank_sample/prediction"
   ]
  },
  {
   "cell_type": "code",
   "execution_count": 4,
   "metadata": {
    "collapsed": false
   },
   "outputs": [
    {
     "name": "stdout",
     "output_type": "stream",
     "text": [
      "0.12979999\r\n",
      "0.08969999\r\n",
      "0.02980000\r\n",
      "-0.05020000\r\n"
     ]
    }
   ],
   "source": [
    "!cat ../data/svmrank_sample/prediction"
   ]
  },
  {
   "cell_type": "markdown",
   "metadata": {},
   "source": [
    "### 1. 別のテストデータの作成\n",
    "`../data/svmrank_sample/train.dat`の内容から，どのような特徴量を持つ文書が上位にランキングされるかを考察する．\n",
    "RankSVMでは，比較を行う2つの文書の**特徴量の差**を利用して選好の学習を行うという性質がある．\n",
    "したがって，訓練データから`「上位の文書の特徴量」-「下位の文書の特徴量」`を計算し，\n",
    "特徴量の符号の傾向を掴むことを考える．\n",
    "\n",
    "以下は，**qid=1**の文書についてその傾向を把握するためのコードセルである．"
   ]
  },
  {
   "cell_type": "code",
   "execution_count": 7,
   "metadata": {
    "collapsed": false
   },
   "outputs": [
    {
     "data": {
      "text/html": [
       "<div>\n",
       "<table border=\"1\" class=\"dataframe\">\n",
       "  <thead>\n",
       "    <tr style=\"text-align: right;\">\n",
       "      <th></th>\n",
       "      <th>feat1</th>\n",
       "      <th>feat2</th>\n",
       "      <th>feat3</th>\n",
       "      <th>feat4</th>\n",
       "      <th>feat5</th>\n",
       "      <th>relevance</th>\n",
       "    </tr>\n",
       "  </thead>\n",
       "  <tbody>\n",
       "    <tr>\n",
       "      <th>1A</th>\n",
       "      <td>1</td>\n",
       "      <td>1</td>\n",
       "      <td>0</td>\n",
       "      <td>0.2</td>\n",
       "      <td>0</td>\n",
       "      <td>3</td>\n",
       "    </tr>\n",
       "    <tr>\n",
       "      <th>1B</th>\n",
       "      <td>0</td>\n",
       "      <td>0</td>\n",
       "      <td>1</td>\n",
       "      <td>0.1</td>\n",
       "      <td>1</td>\n",
       "      <td>2</td>\n",
       "    </tr>\n",
       "    <tr>\n",
       "      <th>1C</th>\n",
       "      <td>0</td>\n",
       "      <td>1</td>\n",
       "      <td>0</td>\n",
       "      <td>0.4</td>\n",
       "      <td>0</td>\n",
       "      <td>1</td>\n",
       "    </tr>\n",
       "    <tr>\n",
       "      <th>1D</th>\n",
       "      <td>0</td>\n",
       "      <td>0</td>\n",
       "      <td>1</td>\n",
       "      <td>0.3</td>\n",
       "      <td>0</td>\n",
       "      <td>1</td>\n",
       "    </tr>\n",
       "  </tbody>\n",
       "</table>\n",
       "</div>"
      ],
      "text/plain": [
       "    feat1  feat2  feat3  feat4  feat5  relevance\n",
       "1A      1      1      0    0.2      0          3\n",
       "1B      0      0      1    0.1      1          2\n",
       "1C      0      1      0    0.4      0          1\n",
       "1D      0      0      1    0.3      0          1"
      ]
     },
     "execution_count": 7,
     "metadata": {},
     "output_type": "execute_result"
    }
   ],
   "source": [
    "# [START データの分析]\n",
    "feat1 = [1, 0, 0, 0]\n",
    "feat2 = [1, 0, 1, 0]\n",
    "feat3 = [0, 1, 0, 1]\n",
    "feat4 = [0.2, 0.1, 0.4, 0.3]\n",
    "feat5 = [0, 1, 0, 0]\n",
    "relevance = [3, 2, 1, 1]\n",
    "train = pd.DataFrame({ \"feat1\": feat1, \"feat2\": feat2, \"feat3\": feat3, \"feat4\": feat4, \"feat5\": feat5, \"relevance\": relevance })\n",
    "train.index = [\"1A\", \"1B\", \"1C\", \"1D\"]\n",
    "train.head()"
   ]
  },
  {
   "cell_type": "code",
   "execution_count": 12,
   "metadata": {
    "collapsed": false
   },
   "outputs": [
    {
     "name": "stdout",
     "output_type": "stream",
     "text": [
      "1A > 1B\n",
      "[ 1.   1.  -1.   0.1 -1. ]\n",
      "1A > 1C\n",
      "[ 1.   0.   0.  -0.2  0. ]\n",
      "1A > 1D\n",
      "[ 1.   1.  -1.  -0.1  0. ]\n",
      "1B > 1C\n",
      "[ 0.  -1.   1.  -0.3  1. ]\n",
      "1B > 1D\n",
      "[ 0.   0.   0.  -0.2  1. ]\n"
     ]
    }
   ],
   "source": [
    "for selection in [(\"1A\", \"1B\"), (\"1A\", \"1C\"), (\"1A\", \"1D\"), (\"1B\", \"1C\"), (\"1B\", \"1D\")]:\n",
    "    print(\"{} > {}\".format(*selection))\n",
    "    print((train.loc[selection[0]] - train.loc[selection[1]])[[\"feat1\", \"feat2\", \"feat3\", \"feat4\", \"feat5\"]].values)"
   ]
  },
  {
   "cell_type": "markdown",
   "metadata": {},
   "source": [
    "以上の表示結果から，**1次元目の特徴量の値が大きく，4次元目の特徴量の値が小さい**文書の方が，より上位に選ばれやすいといった傾向が掴める．\n",
    "\n",
    "この考察結果を踏まえ，以下の二つのテストデータセットを作成した(それぞれ，test1.dat，test2.datとした)．\n",
    "1. 上位の文書について，1次元目の特徴量が大きく，4次元目の特徴量が小さいようなデータセット\n",
    "2. 1のデータセットとは傾向が逆(つまり1次元目の特徴量が小さく，4次元目の特徴量が大きいような文書が上位にランク付けされている)"
   ]
  },
  {
   "cell_type": "code",
   "execution_count": 13,
   "metadata": {
    "collapsed": false
   },
   "outputs": [
    {
     "name": "stdout",
     "output_type": "stream",
     "text": [
      "4 qid:10 1:3 2:0 3:1 4:0.3 5:0\r\n",
      "3 qid:10 1:2 2:0 3:0 4:0.3 5:0\r\n",
      "2 qid:10 1:0 2:0 3:0 4:0.1 5:0\r\n",
      "1 qid:10 1:0 2:0 3:1 4:0.5 5:0\r\n"
     ]
    }
   ],
   "source": [
    "!cat ../data/svmrank_sample/test1.dat"
   ]
  },
  {
   "cell_type": "code",
   "execution_count": 14,
   "metadata": {
    "collapsed": false
   },
   "outputs": [
    {
     "name": "stdout",
     "output_type": "stream",
     "text": [
      "4 qid:11 1:0 2:0 3:0 4:0.5 5:0\r\n",
      "3 qid:11 1:1 2:0 3:0 4:0.8 5:0\r\n",
      "2 qid:11 1:1 2:0 3:0 4:0.3 5:0\r\n",
      "1 qid:11 1:1 2:0 3:0 4:0.1 5:0\r\n"
     ]
    }
   ],
   "source": [
    "!cat ../data/svmrank_sample/test2.dat"
   ]
  },
  {
   "cell_type": "markdown",
   "metadata": {},
   "source": [
    "### 2. テストデータへの適用\n",
    "用意したテストデータについて，訓練データを利用して学習したモデルによる分類を行う．"
   ]
  },
  {
   "cell_type": "code",
   "execution_count": 15,
   "metadata": {
    "collapsed": false
   },
   "outputs": [
    {
     "name": "stdout",
     "output_type": "stream",
     "text": [
      "Reading model...done.\r\n",
      "Reading test examples...done.\r\n",
      "Classifying test examples...done\r\n",
      "Runtime (without IO) in cpu-seconds: 0.00\r\n",
      "Average loss on test set: 0.0000\r\n",
      "Zero/one-error on test set: 0.00% (1 correct, 0 incorrect, 1 total)\r\n",
      "NOTE: The loss reported above is the fraction of swapped pairs averaged over\r\n",
      "      all rankings. The zero/one-error is fraction of perfectly correct\r\n",
      "      rankings!\r\n",
      "Total Num Swappedpairs  :      0\r\n",
      "Avg Swappedpairs Percent:   0.00\r\n"
     ]
    }
   ],
   "source": [
    "! ../bin/svm_rank/svm_rank_classify ../data/svmrank_sample/test1.dat ../data/svmrank_sample/model ../data/svmrank_sample/prediction1"
   ]
  },
  {
   "cell_type": "code",
   "execution_count": 16,
   "metadata": {
    "collapsed": false
   },
   "outputs": [
    {
     "name": "stdout",
     "output_type": "stream",
     "text": [
      "Reading model...done.\r\n",
      "Reading test examples...done.\r\n",
      "Classifying test examples...done\r\n",
      "Runtime (without IO) in cpu-seconds: 0.00\r\n",
      "Average loss on test set: 1.0000\r\n",
      "Zero/one-error on test set: 100.00% (0 correct, 1 incorrect, 1 total)\r\n",
      "NOTE: The loss reported above is the fraction of swapped pairs averaged over\r\n",
      "      all rankings. The zero/one-error is fraction of perfectly correct\r\n",
      "      rankings!\r\n",
      "Total Num Swappedpairs  :      6\r\n",
      "Avg Swappedpairs Percent: 100.00\r\n"
     ]
    }
   ],
   "source": [
    "! ../bin/svm_rank/svm_rank_classify ../data/svmrank_sample/test2.dat ../data/svmrank_sample/model ../data/svmrank_sample/prediction2"
   ]
  },
  {
   "cell_type": "markdown",
   "metadata": {},
   "source": [
    "### 3. テストデータに対する予測の表示と考察"
   ]
  },
  {
   "cell_type": "code",
   "execution_count": 17,
   "metadata": {
    "collapsed": false
   },
   "outputs": [
    {
     "name": "stdout",
     "output_type": "stream",
     "text": [
      "0.24969999\r\n",
      "0.19969999\r\n",
      "-0.00010000\r\n",
      "-0.05050000\r\n"
     ]
    }
   ],
   "source": [
    "! cat ../data/svmrank_sample/prediction1"
   ]
  },
  {
   "cell_type": "code",
   "execution_count": 18,
   "metadata": {
    "collapsed": false
   },
   "outputs": [
    {
     "name": "stdout",
     "output_type": "stream",
     "text": [
      "-0.00050000\r\n",
      "0.09919999\r\n",
      "0.09969999\r\n",
      "0.09989999\r\n"
     ]
    }
   ],
   "source": [
    "! cat ../data/svmrank_sample/prediction2"
   ]
  },
  {
   "cell_type": "markdown",
   "metadata": {},
   "source": [
    "以上の結果から，1. のテストデータについては，全ての文書について実際の順位に対応するように適合度が予測されていることがわかる．\n",
    "その一方で，2.のテストデータについては，全く逆の順番に対応するような適合度が予測されていることがわかる．\n",
    "\n",
    "したがって，人間が特徴量を見て直感的に作成するランキングは，学習されるモデルによるランキングに近い結果を与えることが確かめられた．"
   ]
  },
  {
   "cell_type": "markdown",
   "metadata": {},
   "source": [
    "### 補足: Footrule距離\n",
    "ランキングの精度を確かめる一つの評価指標にSpearman's footruleが存在するため，作成したテストデータに対する評価を行う． Footrule距離は，次のように計算される．\n",
    "\n",
    "$$\n",
    "F(\\sigma) = \\sum_{i}\\|i - \\sigma(i)\\|;\n",
    "$$\n",
    "\n",
    "4つの文書について考えられる2つの文書の組み合わせは，$_{4}\\mathrm{C}_{2}=6$であり，\n",
    "テストデータ1については，実際の順位と予測される適合度による順位が全て等しいため，Footrule距離は0となる一方で，\n",
    "テストデータ２については，順序が真逆になるため，Footrule距離は$(\\|1-4\\|+\\|2-3\\|+\\|3-2\\|+\\|4-1\\|)=8$となる．\n",
    "\n",
    "このように，ランキングに対する定量的な評価指標を利用することによっても，人間の直感によるランキングがモデルによるランキングに近しい結果を生み出すことを確認できる．"
   ]
  },
  {
   "cell_type": "code",
   "execution_count": null,
   "metadata": {
    "collapsed": true
   },
   "outputs": [],
   "source": []
  }
 ],
 "metadata": {
  "kernelspec": {
   "display_name": "Python [python360]",
   "language": "python",
   "name": "Python [python360]"
  },
  "language_info": {
   "codemirror_mode": {
    "name": "ipython",
    "version": 3
   },
   "file_extension": ".py",
   "mimetype": "text/x-python",
   "name": "python",
   "nbconvert_exporter": "python",
   "pygments_lexer": "ipython3",
   "version": "3.6.0"
  }
 },
 "nbformat": 4,
 "nbformat_minor": 0
}
